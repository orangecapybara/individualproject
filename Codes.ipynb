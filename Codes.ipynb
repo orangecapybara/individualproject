{
 "cells": [
  {
   "cell_type": "markdown",
   "metadata": {},
   "source": [
    "Data Collection:"
   ]
  },
  {
   "cell_type": "code",
   "execution_count": 14,
   "metadata": {},
   "outputs": [
    {
     "name": "stdout",
     "output_type": "stream",
     "text": [
      "Reached the end of the video.\n"
     ]
    }
   ],
   "source": [
    "import cv2\n",
    "\n",
    "# Path to the uploaded video file\n",
    "video_path = \"D:\\\\HAN - Third year\\\\Project_Gym\\\\Yipeee\\\\input(mp4).mp4\"\n",
    "\n",
    "# Open the video file\n",
    "cap = cv2.VideoCapture(video_path)\n",
    "\n",
    "# Check if video opened successfully\n",
    "if not cap.isOpened():\n",
    "    print(\"Error: Could not open video.\")\n",
    "    exit()\n",
    "\n",
    "# Loop to capture frames from the video\n",
    "while True:\n",
    "    ret, frame = cap.read()  # Read frame from video\n",
    "    \n",
    "    if not ret:\n",
    "        print(\"Reached the end of the video.\")\n",
    "        break\n",
    "    \n",
    "    # Display the frame\n",
    "    cv2.imshow('Video', frame)\n",
    "\n",
    "    # Break the loop when 'q' is pressed\n",
    "    if cv2.waitKey(1) & 0xFF == ord('q'):\n",
    "        break\n",
    "\n",
    "# Release the video capture object and close all OpenCV windows\n",
    "cap.release()\n",
    "cv2.destroyAllWindows()\n"
   ]
  },
  {
   "cell_type": "markdown",
   "metadata": {},
   "source": [
    "Data Preprocessing:"
   ]
  },
  {
   "cell_type": "code",
   "execution_count": 15,
   "metadata": {},
   "outputs": [],
   "source": [
    "\n",
    "# Loop to extract frames\n",
    "while cap.isOpened():\n",
    "    ret, frame = cap.read()  # Read frame from video\n",
    "    if not ret:\n",
    "        break\n",
    "\n",
    "    # Convert frame to grayscale\n",
    "    gray_frame = cv2.cvtColor(frame, cv2.COLOR_BGR2GRAY)\n",
    "\n",
    "    # Process the grayscale frame\n",
    "    # (Add your analysis code here)\n",
    "\n",
    "# Release the video file\n",
    "cap.release()\n"
   ]
  },
  {
   "cell_type": "markdown",
   "metadata": {},
   "source": [
    "Pose Estimation:"
   ]
  },
  {
   "cell_type": "code",
   "execution_count": 16,
   "metadata": {},
   "outputs": [
    {
     "name": "stdout",
     "output_type": "stream",
     "text": [
      "Error: Unable to load image.\n"
     ]
    }
   ],
   "source": [
    "import cv2\n",
    "import os\n",
    "\n",
    "# Set OpenPose model and configuration paths\n",
    "model_path = \"D:\\\\HAN - Third year\\\\Project_Gym\\\\Yipeee\\\\openpose\"\n",
    "config_path = os.path.join(model_path, \"pose_deploy.prototxt\")\n",
    "weights_path = os.path.join(model_path, \"pose_iter_440000.caffemodel\")\n",
    "\n",
    "# Load OpenPose model\n",
    "net = cv2.dnn.readNetFromCaffe(config_path, weights_path)\n",
    "\n",
    "# Function to perform pose estimation on a frame\n",
    "def estimate_pose(frame):\n",
    "    # Check if frame is None (empty)\n",
    "    if frame is None:\n",
    "        print(\"Error: Unable to load image.\")\n",
    "        return None\n",
    "    \n",
    "    # Forward pass through the network\n",
    "    net.setInput(cv2.dnn.blobFromImage(frame, 1.0, (368, 368), (127.5, 127.5, 127.5), swapRB=True, crop=False))\n",
    "    output = net.forward()\n",
    "\n",
    "    # Process output to extract key points\n",
    "    # (Add your code here)\n",
    "\n",
    "    return keypoints\n",
    "\n",
    "# Usage example\n",
    "frame = cv2.imread(\"path_to_image.jpg\")\n",
    "keypoints = estimate_pose(frame)\n"
   ]
  },
  {
   "cell_type": "markdown",
   "metadata": {},
   "source": [
    "Form analysis"
   ]
  },
  {
   "cell_type": "code",
   "execution_count": 19,
   "metadata": {},
   "outputs": [
    {
     "ename": "NameError",
     "evalue": "name 'x1' is not defined",
     "output_type": "error",
     "traceback": [
      "\u001b[1;31m---------------------------------------------------------------------------\u001b[0m",
      "\u001b[1;31mNameError\u001b[0m                                 Traceback (most recent call last)",
      "Cell \u001b[1;32mIn[19], line 62\u001b[0m\n\u001b[0;32m     59\u001b[0m     \u001b[38;5;28;01mreturn\u001b[39;00m math\u001b[38;5;241m.\u001b[39msqrt((point2[\u001b[38;5;241m0\u001b[39m] \u001b[38;5;241m-\u001b[39m point1[\u001b[38;5;241m0\u001b[39m])\u001b[38;5;241m*\u001b[39m\u001b[38;5;241m*\u001b[39m\u001b[38;5;241m2\u001b[39m \u001b[38;5;241m+\u001b[39m (point2[\u001b[38;5;241m1\u001b[39m] \u001b[38;5;241m-\u001b[39m point1[\u001b[38;5;241m1\u001b[39m])\u001b[38;5;241m*\u001b[39m\u001b[38;5;241m*\u001b[39m\u001b[38;5;241m2\u001b[39m)\n\u001b[0;32m     61\u001b[0m \u001b[38;5;66;03m# Usage example\u001b[39;00m\n\u001b[1;32m---> 62\u001b[0m keypoints \u001b[38;5;241m=\u001b[39m [\u001b[43mx1\u001b[49m, y1, c1, x2, y2, c2, \u001b[38;5;241m.\u001b[39m\u001b[38;5;241m.\u001b[39m\u001b[38;5;241m.\u001b[39m]  \u001b[38;5;66;03m# Detected keypoints from pose estimation\u001b[39;00m\n\u001b[0;32m     63\u001b[0m angle_left_knee, angle_right_knee \u001b[38;5;241m=\u001b[39m calculate_joint_angles(keypoints)\n\u001b[0;32m     64\u001b[0m \u001b[38;5;28mprint\u001b[39m(\u001b[38;5;124m\"\u001b[39m\u001b[38;5;124mLeft knee angle:\u001b[39m\u001b[38;5;124m\"\u001b[39m, angle_left_knee)\n",
      "\u001b[1;31mNameError\u001b[0m: name 'x1' is not defined"
     ]
    }
   ],
   "source": [
    "import math\n",
    "\n",
    "# Function to calculate joint angles\n",
    "def calculate_joint_angles(keypoints):\n",
    "    # Define the indices of keypoints representing relevant joints\n",
    "    # For example, if keypoints are in the format [x1, y1, c1, x2, y2, c2, ...],\n",
    "    # where (xi, yi) are the coordinates of a keypoint and ci is the confidence score,\n",
    "    # the relevant keypoint indices for squat analysis might be:\n",
    "    # hip: 11 (left hip) and 12 (right hip)\n",
    "    # knee: 13 (left knee) and 14 (right knee)\n",
    "    # ankle: 15 (left ankle) and 16 (right ankle)\n",
    "    left_hip_idx = 11\n",
    "    right_hip_idx = 12\n",
    "    left_knee_idx = 13\n",
    "    right_knee_idx = 14\n",
    "    left_ankle_idx = 15\n",
    "    right_ankle_idx = 16\n",
    "\n",
    "    # Get coordinates of relevant keypoints\n",
    "    left_hip = keypoints[left_hip_idx * 3:left_hip_idx * 3 + 2]\n",
    "    right_hip = keypoints[right_hip_idx * 3:right_hip_idx * 3 + 2]\n",
    "    left_knee = keypoints[left_knee_idx * 3:left_knee_idx * 3 + 2]\n",
    "    right_knee = keypoints[right_knee_idx * 3:right_knee_idx * 3 + 2]\n",
    "    left_ankle = keypoints[left_ankle_idx * 3:left_ankle_idx * 3 + 2]\n",
    "    right_ankle = keypoints[right_ankle_idx * 3:right_ankle_idx * 3 + 2]\n",
    "\n",
    "    # Calculate joint angles based on key points\n",
    "    # For example, calculate the angles at the knee joints\n",
    "    # using the law of cosines:\n",
    "    # angle = arccos((a^2 + b^2 - c^2) / (2 * a * b))\n",
    "    # where a, b, and c are lengths of the sides of the triangle\n",
    "    # formed by the keypoints\n",
    "\n",
    "    # Calculate angle at left knee\n",
    "    angle_left_knee = calculate_angle(left_hip, left_knee, left_ankle)\n",
    "\n",
    "    # Calculate angle at right knee\n",
    "    angle_right_knee = calculate_angle(right_hip, right_knee, right_ankle)\n",
    "\n",
    "    return angle_left_knee, angle_right_knee\n",
    "\n",
    "# Function to calculate angle between three points using law of cosines\n",
    "def calculate_angle(a, b, c):\n",
    "    # Calculate lengths of sides of triangle\n",
    "    ab = distance(a, b)\n",
    "    ac = distance(a, c)\n",
    "    bc = distance(b, c)\n",
    "\n",
    "    # Calculate angle using law of cosines\n",
    "    angle_rad = math.acos((ab**2 + ac**2 - bc**2) / (2 * ab * ac))\n",
    "\n",
    "    # Convert angle from radians to degrees\n",
    "    angle_deg = math.degrees(angle_rad)\n",
    "\n",
    "    return angle_deg\n",
    "\n",
    "# Function to calculate Euclidean distance between two points\n",
    "def distance(point1, point2):\n",
    "    return math.sqrt((point2[0] - point1[0])**2 + (point2[1] - point1[1])**2)\n",
    "\n",
    "# Usage example\n",
    "keypoints = [x1, y1, c1, x2, y2, c2, ...]  # Detected keypoints from pose estimation\n",
    "angle_left_knee, angle_right_knee = calculate_joint_angles(keypoints)\n",
    "print(\"Left knee angle:\", angle_left_knee)\n",
    "print(\"Right knee angle:\", angle_right_knee)\n",
    "\n"
   ]
  }
 ],
 "metadata": {
  "kernelspec": {
   "display_name": "base",
   "language": "python",
   "name": "python3"
  },
  "language_info": {
   "codemirror_mode": {
    "name": "ipython",
    "version": 3
   },
   "file_extension": ".py",
   "mimetype": "text/x-python",
   "name": "python",
   "nbconvert_exporter": "python",
   "pygments_lexer": "ipython3",
   "version": "3.12.3"
  }
 },
 "nbformat": 4,
 "nbformat_minor": 2
}
